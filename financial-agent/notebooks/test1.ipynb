{
 "cells": [
  {
   "cell_type": "code",
   "id": "initial_id",
   "metadata": {
    "collapsed": true,
    "ExecuteTime": {
     "end_time": "2025-04-04T08:41:49.645857Z",
     "start_time": "2025-04-04T08:41:49.642013Z"
    }
   },
   "source": [
    "# Import Libraries for my AI Agent\n",
    "import os\n",
    "from dotenv import load_dotenv\n",
    "from phi.agent import Agent\n",
    "from phi.model.groq import Groq\n",
    "from phi.tools.yfinance import YFinanceTools\n",
    "from phi.tools.duckduckgo import DuckDuckGo"
   ],
   "outputs": [],
   "execution_count": 5
  },
  {
   "metadata": {
    "ExecuteTime": {
     "end_time": "2025-04-04T08:41:49.970510Z",
     "start_time": "2025-04-04T08:41:49.961881Z"
    }
   },
   "cell_type": "code",
   "source": [
    "# Load environment variables\n",
    "load_dotenv()\n",
    "\n",
    "# Get API keys from environment variables\n",
    "PHI_API_KEY = os.getenv(\"PHI_API_KEY\")\n",
    "GROQ_API_KEY = os.getenv(\"GROQ_API_KEY\")"
   ],
   "id": "ad69bbeaad98e765",
   "outputs": [],
   "execution_count": 6
  },
  {
   "metadata": {
    "ExecuteTime": {
     "end_time": "2025-04-04T08:41:50.643952Z",
     "start_time": "2025-04-04T08:41:50.634734Z"
    }
   },
   "cell_type": "code",
   "source": [
    "# Verify API keys\n",
    "if not GROQ_API_KEY:\n",
    "    raise ValueError(\"GROQ_API_KEY not found in environment variables\")\n",
    "\n",
    "# Initialize Groq LLM with error handling\n",
    "try:\n",
    "    groq_llm = Groq(\n",
    "        id=\"llama3-70b-8192\",\n",
    "        api_key=GROQ_API_KEY,\n",
    "        temperature=0.3  # Lower temperature for more factual responses\n",
    "    )\n",
    "except Exception as e:\n",
    "    raise RuntimeError(f\"Failed to initialize Groq client: {str(e)}\")"
   ],
   "id": "b00a359e8fa0d4fa",
   "outputs": [],
   "execution_count": 7
  },
  {
   "metadata": {
    "ExecuteTime": {
     "end_time": "2025-04-04T08:43:46.157059Z",
     "start_time": "2025-04-04T08:41:52.241942Z"
    }
   },
   "cell_type": "code",
   "source": [
    "# Create agents with error handling\n",
    "try:\n",
    "    # Web Search Agent\n",
    "    web_search_agent = Agent(\n",
    "        name=\"Web Search Agent\",\n",
    "        role=\"Searches the web for current information\",\n",
    "        model=groq_llm,\n",
    "        tools=[DuckDuckGo()],\n",
    "        introduction=\"Always verify information and include sources.\",\n",
    "        show_tool_calls=True\n",
    "    )\n",
    "\n",
    "    # Financial Agent\n",
    "    financial_agent = Agent(\n",
    "        name=\"Financial Analyst\",\n",
    "        role=\"Analyzes stock market data and company fundamentals\",\n",
    "        model=groq_llm,\n",
    "        tools=[\n",
    "            YFinanceTools(\n",
    "                stock_price=True,\n",
    "                analyst_recommendations=True,\n",
    "                stock_fundamentals=True,\n",
    "                company_news=True\n",
    "            )\n",
    "        ],\n",
    "        introduction=\"Present financial data clearly with tables when appropriate.\",\n",
    "        show_tool_calls=True\n",
    "    )\n",
    "\n",
    "    # Multi-Agent System\n",
    "    multi_agent = Agent(\n",
    "        name=\"Research Team\",\n",
    "        role=\"Coordinates research between web search and financial analysis\",\n",
    "        team=[web_search_agent, financial_agent],\n",
    "        model=groq_llm,\n",
    "        instructions=[\n",
    "            \"First gather current news using the web search agent\",\n",
    "            \"Then analyze financial data using the financial agent\",\n",
    "            \"Combine both sources for a comprehensive report\"\n",
    "        ],\n",
    "        show_tool_calls=True\n",
    "    )\n",
    "except Exception as e:\n",
    "    raise RuntimeError(f\"Failed to create agents: {str(e)}\")\n",
    "\n",
    "# Execute query with error handling\n",
    "try:\n",
    "    query = \"Summarize and analyze the latest news about Apple Inc. (AAPL) stock.\"\n",
    "    print(f\"Executing query: {query}\")\n",
    "\n",
    "    # First try with streaming\n",
    "    try:\n",
    "        print(\"\\nStreaming response:\")\n",
    "        for chunk in multi_agent.run(query, stream=True):\n",
    "            if chunk and hasattr(chunk, 'content'):\n",
    "                print(chunk.content, end=\"\", flush=True)\n",
    "    except Exception as stream_error:\n",
    "        print(f\"\\nStreaming failed, falling back to regular response: {str(stream_error)}\")\n",
    "        full_response = multi_agent.run(query)\n",
    "        print(\"\\nFull response:\")\n",
    "        print(full_response)\n",
    "\n",
    "except Exception as e:\n",
    "    print(f\"Error executing query: {str(e)}\")\n",
    "    print(\"Possible solutions:\")\n",
    "    print(\"1. Verify your GROQ_API_KEY is valid\")\n",
    "    print(\"2. Check your internet connection\")\n",
    "    print(\"3. Try simplifying your query\")\n",
    "    print(\"4. Wait a few minutes and try again (API might be busy)\")"
   ],
   "id": "eab8ffb020e29d6f",
   "outputs": [
    {
     "name": "stdout",
     "output_type": "stream",
     "text": [
      "Executing query: Summarize and analyze the latest news about Apple Inc. (AAPL) stock.\n",
      "\n",
      "Streaming response:\n",
      "\n",
      "Running:\n",
      " - transfer_task_to_web_search_agent(task_description=Provide the latest news about Apple Inc. (AAPL) stock, expected_output=A list of recent news articles about Apple Inc. (AAPL) stock, additional_information=Focus on reputable sources and provide a brief summary of each article)\n",
      " - transfer_task_to_financial_analyst(task_description=Analyze the current financial data of Apple Inc. (AAPL) stock, expected_output=A report on the current stock price, company fundamentals, and analyst recommendations, additional_information=Provide a comprehensive analysis of the company's financial health)\n",
      "\n",
      "\n",
      "Running:\n",
      " - transfer_task_to_web_search_agent(task_description=..., expected_output=A comprehensive report combining the latest news and financial analysis of Apple Inc. (AAPL) stock, additional_information=Focus on providing a clear and concise summary of the company's current situation)\n",
      "\n",
      "Here is the final response:\n",
      "\n",
      "Apple Inc. (AAPL) stock has been experiencing a sell-off due to tariff concerns, with a significant drop in its market value. However, the company's financial metrics remain strong, and analyst recommendations are largely positive. The current stock price is $203.1900, with a mixed sentiment among analysts. Despite the uncertainty, Apple's strong earnings per share and dividend yield provide a positive outlook. Overall, AAPL appears to be a good investment opportunity for those willing to take on some risk."
     ]
    }
   ],
   "execution_count": 8
  }
 ],
 "metadata": {
  "kernelspec": {
   "display_name": "Python 3",
   "language": "python",
   "name": "python3"
  },
  "language_info": {
   "codemirror_mode": {
    "name": "ipython",
    "version": 2
   },
   "file_extension": ".py",
   "mimetype": "text/x-python",
   "name": "python",
   "nbconvert_exporter": "python",
   "pygments_lexer": "ipython2",
   "version": "2.7.6"
  }
 },
 "nbformat": 4,
 "nbformat_minor": 5
}
