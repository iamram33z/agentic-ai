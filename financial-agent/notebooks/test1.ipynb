{
 "cells": [
  {
   "cell_type": "code",
   "id": "initial_id",
   "metadata": {
    "collapsed": true,
    "ExecuteTime": {
     "end_time": "2025-04-04T14:53:04.414097Z",
     "start_time": "2025-04-04T14:53:02.535629Z"
    }
   },
   "source": [
    "# Import Libraries for my AI Agent\n",
    "import os\n",
    "from dotenv import load_dotenv\n",
    "\n",
    "from agno.agent import Agent\n",
    "from agno.models.groq import Groq\n",
    "from agno.tools.duckduckgo import DuckDuckGoTools\n",
    "from agno.tools.yfinance import YFinanceTools"
   ],
   "outputs": [],
   "execution_count": 1
  },
  {
   "metadata": {
    "ExecuteTime": {
     "end_time": "2025-04-04T14:53:04.426845Z",
     "start_time": "2025-04-04T14:53:04.414702Z"
    }
   },
   "cell_type": "code",
   "source": [
    "# Load environment variables\n",
    "load_dotenv()\n",
    "\n",
    "# Get the API key from environment variables\n",
    "# GROQ\n",
    "GROQ_API_KEY = os.getenv(\"GROQ_API_KEY\")\n",
    "\n",
    "#AGNOS\n",
    "AGNOS_API_KEY = os.getenv(\"AGNOS_API_KEY\")"
   ],
   "id": "ad69bbeaad98e765",
   "outputs": [],
   "execution_count": 2
  },
  {
   "metadata": {
    "ExecuteTime": {
     "end_time": "2025-04-04T14:54:57.977929Z",
     "start_time": "2025-04-04T14:54:12.028971Z"
    }
   },
   "cell_type": "code",
   "source": [
    "# Simplified News Agent\n",
    "news_agent = Agent(\n",
    "    name=\"News Analyst\",\n",
    "    role=\"Get top 3 market-moving news items\",\n",
    "    model=Groq(id=\"llama3-70b-8192\"),\n",
    "    tools=[DuckDuckGoTools()],\n",
    "    instructions=[\n",
    "        \"Format:\",\n",
    "        \"1. [Date] Headline (Source)\",\n",
    "        \"2. Sentiment: Positive/Neutral/Negative\",\n",
    "        \"3. Key point (1 sentence)\"\n",
    "    ],\n",
    "    markdown=True\n",
    ")\n",
    "\n",
    "# Corrected Financial Agent\n",
    "financial_agent = Agent(\n",
    "    name=\"Financial Analyst\",\n",
    "    role=\"Get key financial metrics\",\n",
    "    model=Groq(id=\"llama3-70b-8192\"),\n",
    "    tools=[YFinanceTools(\n",
    "        stock_price=True,\n",
    "        stock_fundamentals=True,  # This includes P/E ratio\n",
    "        key_financial_ratios=True\n",
    "    )],\n",
    "    instructions=[\n",
    "        \"Show data in this table format:\",\n",
    "        \"| Metric       | Value |\",\n",
    "        \"|--------------|-------|\",\n",
    "        \"| Price        |       |\",\n",
    "        \"| P/E Ratio    |       |\",\n",
    "        \"| 52-Week High |       |\",\n",
    "        \"| 52-Week Low  |       |\"\n",
    "    ],\n",
    "    markdown=True\n",
    ")\n",
    "\n",
    "# Simplified Recommendation Agent\n",
    "recommendation_agent = Agent(\n",
    "    name=\"Investment Advisor\",\n",
    "    role=\"Provide concise recommendations\",\n",
    "    model=Groq(id=\"llama3-70b-8192\"),\n",
    "    instructions=[\n",
    "        \"Provide:\",\n",
    "        \"1. Short-term outlook (1 sentence)\",\n",
    "        \"2. Long-term outlook (1 sentence)\",\n",
    "        \"3. Key risk (1 bullet point)\"\n",
    "    ],\n",
    "    markdown=True\n",
    ")\n",
    "\n",
    "# Coordinator Agent\n",
    "coordinator = Agent(\n",
    "    name=\"Research Coordinator\",\n",
    "    role=\"Combine key insights\",\n",
    "    model=Groq(id=\"llama3-70b-8192\"),\n",
    "    team=[news_agent, financial_agent, recommendation_agent],\n",
    "    instructions=[\n",
    "        \"Create brief report with:\",\n",
    "        \"1. Top News (3 items max)\",\n",
    "        \"2. Financial Snapshot (table)\",\n",
    "        \"3. Recommendation Summary\"\n",
    "    ],\n",
    "    markdown=True\n",
    ")\n",
    "\n",
    "# Execute with focused query\n",
    "coordinator.print_response(\n",
    "    \"Provide a concise analysis of NVIDIA's current market position\",\n",
    "    stream=True\n",
    ")"
   ],
   "id": "7699733794ab8a70",
   "outputs": [
    {
     "data": {
      "text/plain": [
       "Output()"
      ],
      "application/vnd.jupyter.widget-view+json": {
       "version_major": 2,
       "version_minor": 0,
       "model_id": "bab108a281c44690b18ea38ffb040cf7"
      }
     },
     "metadata": {},
     "output_type": "display_data"
    },
    {
     "data": {
      "text/plain": [],
      "text/html": [
       "<pre style=\"white-space:pre;overflow-x:auto;line-height:normal;font-family:Menlo,'DejaVu Sans Mono',consolas,'Courier New',monospace\"></pre>\n"
      ]
     },
     "metadata": {},
     "output_type": "display_data"
    }
   ],
   "execution_count": 4
  },
  {
   "metadata": {},
   "cell_type": "code",
   "outputs": [],
   "execution_count": null,
   "source": "",
   "id": "44e449b1f6d94fa1"
  }
 ],
 "metadata": {
  "kernelspec": {
   "display_name": "Python 3",
   "language": "python",
   "name": "python3"
  },
  "language_info": {
   "codemirror_mode": {
    "name": "ipython",
    "version": 2
   },
   "file_extension": ".py",
   "mimetype": "text/x-python",
   "name": "python",
   "nbconvert_exporter": "python",
   "pygments_lexer": "ipython2",
   "version": "2.7.6"
  }
 },
 "nbformat": 4,
 "nbformat_minor": 5
}
